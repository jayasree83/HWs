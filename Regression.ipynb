{
 "cells": [
  {
   "cell_type": "code",
   "execution_count": 1,
   "id": "3ebfa733-0760-445e-84c0-d4ce713e2de6",
   "metadata": {},
   "outputs": [],
   "source": [
    "import numpy as np\n",
    "import pandas as pd\n",
    "\n",
    "import seaborn as sns\n",
    "from matplotlib import pyplot as plt\n",
    "%matplotlib inline"
   ]
  },
  {
   "cell_type": "code",
   "execution_count": 2,
   "id": "a9be4337-5220-4cee-b5b6-18b2ca8c002d",
   "metadata": {},
   "outputs": [],
   "source": [
    "data_loc = \"https://raw.githubusercontent.com/alexeygrigorev/datasets/master/laptops.csv\"\n",
    "df = pd.read_csv(data_loc)"
   ]
  },
  {
   "cell_type": "code",
   "execution_count": 4,
   "id": "d2447d51-52ba-4111-b0d2-498e39a3469d",
   "metadata": {},
   "outputs": [
    {
     "data": {
      "text/html": [
       "<div>\n",
       "<style scoped>\n",
       "    .dataframe tbody tr th:only-of-type {\n",
       "        vertical-align: middle;\n",
       "    }\n",
       "\n",
       "    .dataframe tbody tr th {\n",
       "        vertical-align: top;\n",
       "    }\n",
       "\n",
       "    .dataframe thead th {\n",
       "        text-align: right;\n",
       "    }\n",
       "</style>\n",
       "<table border=\"1\" class=\"dataframe\">\n",
       "  <thead>\n",
       "    <tr style=\"text-align: right;\">\n",
       "      <th></th>\n",
       "      <th>Laptop</th>\n",
       "      <th>Status</th>\n",
       "      <th>Brand</th>\n",
       "      <th>Model</th>\n",
       "      <th>CPU</th>\n",
       "      <th>RAM</th>\n",
       "      <th>Storage</th>\n",
       "      <th>Storage type</th>\n",
       "      <th>GPU</th>\n",
       "      <th>Screen</th>\n",
       "      <th>Touch</th>\n",
       "      <th>Final Price</th>\n",
       "    </tr>\n",
       "  </thead>\n",
       "  <tbody>\n",
       "    <tr>\n",
       "      <th>0</th>\n",
       "      <td>ASUS ExpertBook B1 B1502CBA-EJ0436X Intel Core...</td>\n",
       "      <td>New</td>\n",
       "      <td>Asus</td>\n",
       "      <td>ExpertBook</td>\n",
       "      <td>Intel Core i5</td>\n",
       "      <td>8</td>\n",
       "      <td>512</td>\n",
       "      <td>SSD</td>\n",
       "      <td>NaN</td>\n",
       "      <td>15.6</td>\n",
       "      <td>No</td>\n",
       "      <td>1009.00</td>\n",
       "    </tr>\n",
       "    <tr>\n",
       "      <th>1</th>\n",
       "      <td>Alurin Go Start Intel Celeron N4020/8GB/256GB ...</td>\n",
       "      <td>New</td>\n",
       "      <td>Alurin</td>\n",
       "      <td>Go</td>\n",
       "      <td>Intel Celeron</td>\n",
       "      <td>8</td>\n",
       "      <td>256</td>\n",
       "      <td>SSD</td>\n",
       "      <td>NaN</td>\n",
       "      <td>15.6</td>\n",
       "      <td>No</td>\n",
       "      <td>299.00</td>\n",
       "    </tr>\n",
       "    <tr>\n",
       "      <th>2</th>\n",
       "      <td>ASUS ExpertBook B1 B1502CBA-EJ0424X Intel Core...</td>\n",
       "      <td>New</td>\n",
       "      <td>Asus</td>\n",
       "      <td>ExpertBook</td>\n",
       "      <td>Intel Core i3</td>\n",
       "      <td>8</td>\n",
       "      <td>256</td>\n",
       "      <td>SSD</td>\n",
       "      <td>NaN</td>\n",
       "      <td>15.6</td>\n",
       "      <td>No</td>\n",
       "      <td>789.00</td>\n",
       "    </tr>\n",
       "    <tr>\n",
       "      <th>3</th>\n",
       "      <td>MSI Katana GF66 12UC-082XES Intel Core i7-1270...</td>\n",
       "      <td>New</td>\n",
       "      <td>MSI</td>\n",
       "      <td>Katana</td>\n",
       "      <td>Intel Core i7</td>\n",
       "      <td>16</td>\n",
       "      <td>1000</td>\n",
       "      <td>SSD</td>\n",
       "      <td>RTX 3050</td>\n",
       "      <td>15.6</td>\n",
       "      <td>No</td>\n",
       "      <td>1199.00</td>\n",
       "    </tr>\n",
       "    <tr>\n",
       "      <th>4</th>\n",
       "      <td>HP 15S-FQ5085NS Intel Core i5-1235U/16GB/512GB...</td>\n",
       "      <td>New</td>\n",
       "      <td>HP</td>\n",
       "      <td>15S</td>\n",
       "      <td>Intel Core i5</td>\n",
       "      <td>16</td>\n",
       "      <td>512</td>\n",
       "      <td>SSD</td>\n",
       "      <td>NaN</td>\n",
       "      <td>15.6</td>\n",
       "      <td>No</td>\n",
       "      <td>669.01</td>\n",
       "    </tr>\n",
       "  </tbody>\n",
       "</table>\n",
       "</div>"
      ],
      "text/plain": [
       "                                              Laptop Status   Brand  \\\n",
       "0  ASUS ExpertBook B1 B1502CBA-EJ0436X Intel Core...    New    Asus   \n",
       "1  Alurin Go Start Intel Celeron N4020/8GB/256GB ...    New  Alurin   \n",
       "2  ASUS ExpertBook B1 B1502CBA-EJ0424X Intel Core...    New    Asus   \n",
       "3  MSI Katana GF66 12UC-082XES Intel Core i7-1270...    New     MSI   \n",
       "4  HP 15S-FQ5085NS Intel Core i5-1235U/16GB/512GB...    New      HP   \n",
       "\n",
       "        Model            CPU  RAM  Storage Storage type       GPU  Screen  \\\n",
       "0  ExpertBook  Intel Core i5    8      512          SSD       NaN    15.6   \n",
       "1          Go  Intel Celeron    8      256          SSD       NaN    15.6   \n",
       "2  ExpertBook  Intel Core i3    8      256          SSD       NaN    15.6   \n",
       "3      Katana  Intel Core i7   16     1000          SSD  RTX 3050    15.6   \n",
       "4         15S  Intel Core i5   16      512          SSD       NaN    15.6   \n",
       "\n",
       "  Touch  Final Price  \n",
       "0    No      1009.00  \n",
       "1    No       299.00  \n",
       "2    No       789.00  \n",
       "3    No      1199.00  \n",
       "4    No       669.01  "
      ]
     },
     "execution_count": 4,
     "metadata": {},
     "output_type": "execute_result"
    }
   ],
   "source": [
    "df.head()"
   ]
  },
  {
   "cell_type": "code",
   "execution_count": 5,
   "id": "261d72b8-a944-4adf-84db-40684ed22df5",
   "metadata": {},
   "outputs": [],
   "source": [
    "#Preparing the dataset\n",
    "df.columns = df.columns.str.lower().str.replace(' ', '_')"
   ]
  },
  {
   "cell_type": "code",
   "execution_count": 6,
   "id": "21e8402f-85b1-4eb5-bfa5-f3a7dca28878",
   "metadata": {},
   "outputs": [
    {
     "data": {
      "text/plain": [
       "Index(['laptop', 'status', 'brand', 'model', 'cpu', 'ram', 'storage',\n",
       "       'storage_type', 'gpu', 'screen', 'touch', 'final_price'],\n",
       "      dtype='object')"
      ]
     },
     "execution_count": 6,
     "metadata": {},
     "output_type": "execute_result"
    }
   ],
   "source": [
    "df.columns"
   ]
  },
  {
   "cell_type": "code",
   "execution_count": 7,
   "id": "4d2750b9-4d5e-40bc-8c9a-32a8aacfcb5e",
   "metadata": {},
   "outputs": [],
   "source": [
    "req_cols = df[['ram','storage', 'screen', 'final_price']]"
   ]
  },
  {
   "cell_type": "code",
   "execution_count": 9,
   "id": "d0ae3d0b-2c2a-430f-bc76-0c7f7bc5dc14",
   "metadata": {},
   "outputs": [
    {
     "data": {
      "image/png": "[encoded data removed]",
      "text/plain": [
       "<Figure size 800x500 with 1 Axes>"
      ]
     },
     "metadata": {},
     "output_type": "display_data"
    }
   ],
   "source": [
    "#check for longtail\n",
    "plt.figure(figsize=(8, 5))\n",
    "sns.histplot(req_cols['final_price'], bins=30, kde=True)\n",
    "plt.title('Histogram of Final Price')\n",
    "plt.xlabel('Final Price')\n",
    "plt.ylabel('Frequency')\n",
    "plt.show()"
   ]
  },
  {
   "cell_type": "code",
   "execution_count": 10,
   "id": "6bb2028d-62db-418d-b3e9-91caede3f82b",
   "metadata": {},
   "outputs": [
    {
     "data": {
      "text/plain": [
       "ram            0\n",
       "storage        0\n",
       "screen         4\n",
       "final_price    0\n",
       "dtype: int64"
      ]
     },
     "execution_count": 10,
     "metadata": {},
     "output_type": "execute_result"
    }
   ],
   "source": [
    "#Missing Values\n",
    "missing_vals = req_cols.isnull().sum()\n",
    "missing_vals"
   ]
  },
  {
   "cell_type": "code",
   "execution_count": 12,
   "id": "dd348e7a-ceb7-4142-97b1-7d49409022db",
   "metadata": {},
   "outputs": [
    {
     "data": {
      "text/plain": [
       "16.0"
      ]
     },
     "execution_count": 12,
     "metadata": {},
     "output_type": "execute_result"
    }
   ],
   "source": [
    "#Median for RAM\n",
    "median_ram = req_cols['ram'].median()\n",
    "median_ram"
   ]
  },
  {
   "cell_type": "code",
   "execution_count": 13,
   "id": "63750e8a-43e4-4a7e-a59a-e00e8899420e",
   "metadata": {},
   "outputs": [
    {
     "data": {
      "text/plain": [
       "2160"
      ]
     },
     "execution_count": 13,
     "metadata": {},
     "output_type": "execute_result"
    }
   ],
   "source": [
    "np.random.seed(42)\n",
    "n = len(req_cols)\n",
    "n"
   ]
  },
  {
   "cell_type": "code",
   "execution_count": 14,
   "id": "84c89635-6d11-4a70-bbcd-f1168fe35326",
   "metadata": {},
   "outputs": [],
   "source": [
    "n_val = int(0.2 * n)\n",
    "n_test = int(0.2 * n)\n",
    "n_train = n - (n_val + n_test)"
   ]
  },
  {
   "cell_type": "code",
   "execution_count": 16,
   "id": "bfffa0ee-8a4f-4259-8e04-7254a868ff2c",
   "metadata": {},
   "outputs": [
    {
     "name": "stdout",
     "output_type": "stream",
     "text": [
      "432\n",
      "432\n",
      "1296\n"
     ]
    }
   ],
   "source": [
    "print(n_val)\n",
    "print(n_test)\n",
    "print(n_train)"
   ]
  },
  {
   "cell_type": "code",
   "execution_count": 17,
   "id": "c2d8c621-2e9b-49f6-a501-05843c26d533",
   "metadata": {},
   "outputs": [],
   "source": [
    "idx = np.arange(n)\n",
    "np.random.shuffle(idx)"
   ]
  },
  {
   "cell_type": "code",
   "execution_count": 19,
   "id": "d5758d19-e89b-4fba-96c5-09691dfb5fd1",
   "metadata": {},
   "outputs": [],
   "source": [
    "df_shuffled = req_cols.iloc[idx].reset_index(drop=True)"
   ]
  },
  {
   "cell_type": "code",
   "execution_count": 27,
   "id": "c8934675-7f71-4b19-8fae-c19604d6345a",
   "metadata": {},
   "outputs": [],
   "source": [
    "df_train = df_shuffled.iloc[:n_train].copy()\n",
    "df_val = df_shuffled.iloc[n_train:n_train+n_val].copy()\n",
    "df_test = df_shuffled.iloc[n_train+n_val:].copy()"
   ]
  },
  {
   "cell_type": "code",
   "execution_count": 28,
   "id": "e5f25309-2ea4-44f1-a375-933c045df9bb",
   "metadata": {},
   "outputs": [
    {
     "name": "stdout",
     "output_type": "stream",
     "text": [
      "Train shape: (1296, 4), Validation shape: (432, 4), Test shape: (432, 4)\n"
     ]
    }
   ],
   "source": [
    "print(f'Train shape: {df_train.shape}, Validation shape: {df_val.shape}, Test shape: {df_test.shape}')"
   ]
  },
  {
   "cell_type": "code",
   "execution_count": 29,
   "id": "9dccb5d2-2495-45a5-b729-766720bba006",
   "metadata": {},
   "outputs": [],
   "source": [
    "#Option 1: Filling missing values with zero\n",
    "df_train_zero = df_train.fillna(0)\n",
    "df_val_zero = df_val.fillna(0)"
   ]
  },
  {
   "cell_type": "code",
   "execution_count": 30,
   "id": "7ff59174-0c61-4fca-acae-6dae3184e317",
   "metadata": {},
   "outputs": [
    {
     "name": "stdout",
     "output_type": "stream",
     "text": [
      "   ram  storage  screen  final_price\n",
      "0   32     1000    15.6      1123.29\n",
      "1    4       64    14.1       201.05\n",
      "2   32     1000    14.0       997.74\n",
      "3   16      512    13.3      1016.00\n",
      "4   32     1000    16.0      2739.00\n"
     ]
    }
   ],
   "source": [
    "print(df_train_zero.head())"
   ]
  },
  {
   "cell_type": "code",
   "execution_count": 31,
   "id": "3b2d3a1b-0bb1-4687-b108-7eefbcb835db",
   "metadata": {},
   "outputs": [],
   "source": [
    "def train_linear_regression(X, y):\n",
    "    ones = np.ones(X.shape[0])\n",
    "    X = np.column_stack([ones, X])\n",
    "\n",
    "    XTX = X.T.dot(X)\n",
    "    XTX_inv = np.linalg.inv(XTX)\n",
    "    w = XTX_inv.dot(X.T).dot(y)\n",
    "    \n",
    "    return w[0], w[1:]"
   ]
  },
  {
   "cell_type": "code",
   "execution_count": 33,
   "id": "0148698e-45bb-4739-a709-d1350b373814",
   "metadata": {},
   "outputs": [],
   "source": [
    "y_train = np.log1p(df_train['final_price'].values)"
   ]
  },
  {
   "cell_type": "code",
   "execution_count": 40,
   "id": "de5d4cfa-7a6d-4251-b89a-9715f96634f7",
   "metadata": {},
   "outputs": [],
   "source": [
    "y_val = np.log1p(df_val['final_price'].values)"
   ]
  },
  {
   "cell_type": "code",
   "execution_count": 34,
   "id": "5af8d7e4-1c4f-4939-a97b-e06e7bd3c1b6",
   "metadata": {},
   "outputs": [],
   "source": [
    "X_train_zero = df_train_zero[['ram', 'storage', 'screen']].values\n",
    "y_train_zero = y_train\n",
    "\n",
    "# Train the model\n",
    "w_zero_0, w_zero_1 = train_linear_regression(X_train_zero, y_train_zero)"
   ]
  },
  {
   "cell_type": "code",
   "execution_count": 35,
   "id": "ead8277a-54c5-47c4-951c-40d4029cbdf7",
   "metadata": {},
   "outputs": [],
   "source": [
    "X_val_zero = df_val_zero[['ram', 'storage', 'screen']].values\n",
    "y_pred_zero = np.column_stack([np.ones(X_val_zero.shape[0]), X_val_zero]).dot(np.concatenate(([w_zero_0], w_zero_1)))"
   ]
  },
  {
   "cell_type": "code",
   "execution_count": 37,
   "id": "07f418c9-1d5e-40fb-b813-b64f9b18fd91",
   "metadata": {},
   "outputs": [],
   "source": [
    "def rmse(y, y_pred):\n",
    "    error = y_pred - y\n",
    "    mse = (error ** 2).mean()\n",
    "    return np.sqrt(mse)"
   ]
  },
  {
   "cell_type": "code",
   "execution_count": 47,
   "id": "e1121da8-af59-4365-88de-d41a95c23a0f",
   "metadata": {},
   "outputs": [
    {
     "data": {
      "text/plain": [
       "0.42886353154744"
      ]
     },
     "execution_count": 47,
     "metadata": {},
     "output_type": "execute_result"
    }
   ],
   "source": [
    "# Calculate RMSE with zero filling NA\n",
    "rmse_zero = rmse(y_val, y_pred_zero)\n",
    "rmse_zero"
   ]
  },
  {
   "cell_type": "code",
   "execution_count": 50,
   "id": "a8edfc4b-85c5-4226-8f35-ff50aab1c6c1",
   "metadata": {},
   "outputs": [],
   "source": [
    "# Calculate mean of 'Storage' from the training set\n",
    "mean_storage = df_train['storage'].mean()\n",
    "\n",
    "# Fill missing values with mean\n",
    "df_train_mean = df_train.fillna(mean_storage)\n",
    "df_val_mean = df_val.fillna(mean_storage)\n",
    "\n",
    "# Prepare the input features\n",
    "X_train_mean = df_train_mean[['ram', 'storage', 'screen']].values\n",
    "y_train_mean = y_train\n",
    "\n",
    "# Train the model\n",
    "w_mean_0, w_mean_1 = train_linear_regression(X_train_mean, y_train_mean)\n",
    "\n",
    "# Make predictions on the validation set\n",
    "X_val_mean = df_val_mean[['ram', 'storage', 'screen']].values\n",
    "y_pred_mean = np.column_stack([np.ones(X_val_mean.shape[0]), X_val_mean]).dot(np.concatenate(([w_mean_0], w_mean_1)))\n",
    "\n",
    "# Calculate RMSE\n",
    "rmse_mean = rmse(y_val, y_pred_mean)"
   ]
  },
  {
   "cell_type": "code",
   "execution_count": 48,
   "id": "1704acef-bb10-4e88-b378-08f6cf98af16",
   "metadata": {},
   "outputs": [
    {
     "data": {
      "text/plain": [
       "0.43"
      ]
     },
     "execution_count": 48,
     "metadata": {},
     "output_type": "execute_result"
    }
   ],
   "source": [
    "rmse_with_zero = round(rmse_zero, 2)\n",
    "rmse_with_zero"
   ]
  },
  {
   "cell_type": "code",
   "execution_count": 51,
   "id": "aa647231-8e8f-4064-8998-e2623ea095de",
   "metadata": {},
   "outputs": [
    {
     "data": {
      "text/plain": [
       "0.43"
      ]
     },
     "execution_count": 51,
     "metadata": {},
     "output_type": "execute_result"
    }
   ],
   "source": [
    "rmse_with_mean = round(rmse_mean,2)\n",
    "rmse_with_mean"
   ]
  },
  {
   "cell_type": "code",
   "execution_count": 52,
   "id": "bc137734-b4d2-4081-9e26-425c5475c3a6",
   "metadata": {},
   "outputs": [],
   "source": [
    "\n",
    "def train_reg_regression(X, y, alpha):\n",
    "    ones = np.ones(X.shape[0])\n",
    "    X = np.column_stack([ones, X])\n",
    "    n = X.shape[1]\n",
    "    \n",
    "    # Closed-form solution with regularization\n",
    "    I = np.eye(n)\n",
    "    XTX = X.T.dot(X) + alpha * I\n",
    "    XTX_inv = np.linalg.inv(XTX)\n",
    "    w = XTX_inv.dot(X.T).dot(y)\n",
    "    \n",
    "    return w[0], w[1:]"
   ]
  },
  {
   "cell_type": "code",
   "execution_count": 53,
   "id": "12c6e400-fff4-4bbf-b643-5f06241f23ca",
   "metadata": {},
   "outputs": [],
   "source": [
    "r_values = [0, 0.01, 0.1, 1, 5, 10, 100]\n",
    "rmse_results = {}"
   ]
  },
  {
   "cell_type": "code",
   "execution_count": 56,
   "id": "ca2f7d5e-5227-4dd2-b29d-f4e4b9f7087a",
   "metadata": {},
   "outputs": [],
   "source": [
    "y_train = np.log1p(df_train_zero['final_price'].values)\n",
    "y_val = np.log1p(df_val_zero['final_price'].values)\n",
    "\n",
    "X_train = df_train_zero[['ram', 'storage', 'screen']].values\n",
    "X_val = df_val_zero[['ram', 'storage', 'screen']].values"
   ]
  },
  {
   "cell_type": "code",
   "execution_count": 57,
   "id": "4f1725ad-c18e-4ec5-833d-c84bba4d3a5a",
   "metadata": {},
   "outputs": [],
   "source": [
    "for r in r_values:\n",
    "    w_ridge_0, w_ridge_1 = train_reg_regression(X_train, y_train, r)\n",
    "    \n",
    "    # Make predictions on the validation set\n",
    "    X_val_with_bias = np.column_stack([np.ones(X_val.shape[0]), X_val])\n",
    "    y_pred_ridge = X_val_with_bias.dot(np.concatenate(([w_ridge_0], w_ridge_1)))\n",
    "    \n",
    "    # Calculate RMSE\n",
    "    rmse_value = np.sqrt(np.mean((y_val - y_pred_ridge) ** 2))\n",
    "    rmse_results[r] = round(rmse_value, 2)"
   ]
  },
  {
   "cell_type": "code",
   "execution_count": 58,
   "id": "1bcb90ec-feb7-4591-a3a3-1caccfba09e1",
   "metadata": {},
   "outputs": [],
   "source": [
    "best_r = min(rmse_results, key=rmse_results.get)\n",
    "best_rmse = rmse_results[best_r]"
   ]
  },
  {
   "cell_type": "code",
   "execution_count": 59,
   "id": "1f6f6be4-0f42-445f-b0e4-de55b69560f7",
   "metadata": {},
   "outputs": [
    {
     "name": "stdout",
     "output_type": "stream",
     "text": [
      "RMSE Results: {0: 0.43, 0.01: 0.43, 0.1: 0.43, 1: 0.43, 5: 0.46, 10: 0.51, 100: 0.67}\n",
      "Best r: 0, RMSE: 0.43\n"
     ]
    }
   ],
   "source": [
    "print(\"RMSE Results:\", rmse_results)\n",
    "print(f'Best r: {best_r}, RMSE: {best_rmse}')"
   ]
  },
  {
   "cell_type": "code",
   "execution_count": 60,
   "id": "8d260ea1-7133-4347-905a-a129fecece1a",
   "metadata": {},
   "outputs": [],
   "source": [
    "#Q.5\n",
    "def train_linear_regression(X, y):\n",
    "    ones = np.ones(X.shape[0])\n",
    "    X = np.column_stack([ones, X])\n",
    "\n",
    "    XTX = X.T.dot(X)\n",
    "    XTX_inv = np.linalg.inv(XTX)\n",
    "    w = XTX_inv.dot(X.T).dot(y)\n",
    "\n",
    "    return w[0], w[1:]"
   ]
  },
  {
   "cell_type": "code",
   "execution_count": 61,
   "id": "70848772-0cf4-48ad-9077-d81b39b96315",
   "metadata": {},
   "outputs": [],
   "source": [
    "seed_values = range(10)\n",
    "rmse_scores = []"
   ]
  },
  {
   "cell_type": "code",
   "execution_count": 62,
   "id": "7b7f779d-955b-48db-ac2f-248262575675",
   "metadata": {},
   "outputs": [],
   "source": [
    "for seed in seed_values:\n",
    "    np.random.seed(seed)\n",
    "\n",
    "    # Shuffle and split the dataset\n",
    "    n = len(df)\n",
    "    n_val = int(0.2 * n)\n",
    "    n_test = int(0.2 * n)\n",
    "    n_train = n - (n_val + n_test)\n",
    "\n",
    "    idx = np.arange(n)\n",
    "    np.random.shuffle(idx)\n",
    "\n",
    "    df_shuffled = df.iloc[idx]\n",
    "\n",
    "    df_train = df_shuffled.iloc[:n_train].copy()\n",
    "    df_val = df_shuffled.iloc[n_train:n_train+n_val].copy()\n",
    "    df_test = df_shuffled.iloc[n_train+n_val:].copy()\n",
    "\n",
    "    # Fill missing values with 0\n",
    "    df_train_zero = df_train.fillna(0)\n",
    "    df_val_zero = df_val.fillna(0)\n",
    "\n",
    "    # Prepare the target variable\n",
    "    y_train = np.log1p(df_train_zero['final_price'].values)\n",
    "    y_val = np.log1p(df_val_zero['final_price'].values)\n",
    "\n",
    "    # Prepare input features\n",
    "    X_train = df_train_zero[['ram', 'storage', 'screen']].values\n",
    "    X_val = df_val_zero[['ram', 'storage', 'screen']].values\n",
    "\n",
    "    # Train the model\n",
    "    w_zero_0, w_zero_1 = train_linear_regression(X_train, y_train)\n",
    "\n",
    "    # Make predictions on the validation set\n",
    "    X_val_with_bias = np.column_stack([np.ones(X_val.shape[0]), X_val])\n",
    "    y_pred_zero = X_val_with_bias.dot(np.concatenate(([w_zero_0], w_zero_1)))\n",
    "\n",
    "    # Calculate RMSE and store it\n",
    "    rmse_value = np.sqrt(np.mean((y_val - y_pred_zero) ** 2))\n",
    "    rmse_scores.append(rmse_value)"
   ]
  },
  {
   "cell_type": "code",
   "execution_count": 63,
   "id": "35478777-c434-41d2-a2ed-3d8a2a08951b",
   "metadata": {},
   "outputs": [],
   "source": [
    "# Calculate standard deviation of RMSE scores\n",
    "std_rmse = round(np.std(rmse_scores), 3)"
   ]
  },
  {
   "cell_type": "code",
   "execution_count": 64,
   "id": "e6b1f322-2449-4414-9ae1-09e3861a96bd",
   "metadata": {},
   "outputs": [
    {
     "name": "stdout",
     "output_type": "stream",
     "text": [
      "RMSE Scores for different seeds: [0.4300421569415628, 0.4520794495247191, 0.44626255742365506, 0.446451556572719, 0.4199805419364104, 0.42545763234186906, 0.4488322872388542, 0.43091598759041205, 0.4428849183283809, 0.40840334262398703]\n",
      "Standard deviation of RMSE scores: 0.014\n"
     ]
    }
   ],
   "source": [
    "print(\"RMSE Scores for different seeds:\", rmse_scores)\n",
    "print(f'Standard deviation of RMSE scores: {std_rmse}')"
   ]
  },
  {
   "cell_type": "code",
   "execution_count": 65,
   "id": "f2a0b183-ab86-48d2-a416-1a778d4348f5",
   "metadata": {},
   "outputs": [],
   "source": [
    "#q6\n",
    "np.random.seed(9)\n",
    "n = len(df)\n",
    "n_val = int(0.2 * n)\n",
    "n_test = int(0.2 * n)\n",
    "n_train = n - (n_val + n_test)"
   ]
  },
  {
   "cell_type": "code",
   "execution_count": 66,
   "id": "2949dcf0-cf01-4896-86b5-2a3f841f75bb",
   "metadata": {},
   "outputs": [],
   "source": [
    "idx = np.arange(n)\n",
    "np.random.shuffle(idx)\n",
    "\n",
    "df_shuffled = df.iloc[idx]\n",
    "\n",
    "df_train = df_shuffled.iloc[:n_train].copy()\n",
    "df_val = df_shuffled.iloc[n_train:n_train+n_val].copy()\n",
    "df_test = df_shuffled.iloc[n_train+n_val:].copy()\n",
    "\n",
    "df_combined = pd.concat([df_train, df_val], ignore_index=True)"
   ]
  },
  {
   "cell_type": "code",
   "execution_count": 67,
   "id": "6d8809da-8dde-4a34-933c-f505e7c8f872",
   "metadata": {},
   "outputs": [],
   "source": [
    "df_combined.fillna(0, inplace=True)\n",
    "df_test.fillna(0, inplace=True)"
   ]
  },
  {
   "cell_type": "code",
   "execution_count": 68,
   "id": "d9d15041-191c-4340-a968-1350f61b8bc6",
   "metadata": {},
   "outputs": [],
   "source": [
    "y_combined = np.log1p(df_combined['final_price'].values)\n",
    "y_test = np.log1p(df_test['final_price'].values)"
   ]
  },
  {
   "cell_type": "code",
   "execution_count": 69,
   "id": "0b4317f5-be50-4cb1-ba12-f9f0e7f21187",
   "metadata": {},
   "outputs": [],
   "source": [
    "X_combined = df_combined[['ram', 'storage', 'screen']].values\n",
    "X_test = df_test[['ram', 'storage', 'screen']].values"
   ]
  },
  {
   "cell_type": "code",
   "execution_count": 70,
   "id": "d41c3c0f-1c4d-4511-8560-ba52b6e5b702",
   "metadata": {},
   "outputs": [],
   "source": [
    "def train_regression(X, y, alpha):\n",
    "    ones = np.ones(X.shape[0])\n",
    "    X = np.column_stack([ones, X])\n",
    "    n = X.shape[1]\n",
    "\n",
    "    # Closed-form solution with regularization\n",
    "    I = np.eye(n)\n",
    "    XTX = X.T.dot(X) + alpha * I\n",
    "    XTX_inv = np.linalg.inv(XTX)\n",
    "    w = XTX_inv.dot(X.T).dot(y)\n",
    "\n",
    "    return w[0], w[1:]"
   ]
  },
  {
   "cell_type": "code",
   "execution_count": 72,
   "id": "f342007f-e1e9-48f6-99a3-eed0c92d2ff2",
   "metadata": {},
   "outputs": [],
   "source": [
    "r = 0.001\n",
    "w_ridge_0, w_ridge_1 = train_regression(X_combined, y_combined, r)"
   ]
  },
  {
   "cell_type": "code",
   "execution_count": 73,
   "id": "047dcbba-29b0-4d16-9960-6a242cfe502d",
   "metadata": {},
   "outputs": [],
   "source": [
    "X_test_with_bias = np.column_stack([np.ones(X_test.shape[0]), X_test])\n",
    "y_pred_test = X_test_with_bias.dot(np.concatenate(([w_ridge_0], w_ridge_1)))"
   ]
  },
  {
   "cell_type": "code",
   "execution_count": 74,
   "id": "2da8edea-6c43-4167-a796-a94ca2caf16c",
   "metadata": {},
   "outputs": [],
   "source": [
    "rmse_value = rmse(y_test, y_pred_test)"
   ]
  },
  {
   "cell_type": "code",
   "execution_count": 75,
   "id": "7a94f124-4687-40b8-80bf-03c3c27f3255",
   "metadata": {},
   "outputs": [
    {
     "name": "stdout",
     "output_type": "stream",
     "text": [
      "RMSE on test dataset: 0.46\n"
     ]
    }
   ],
   "source": [
    "print(f'RMSE on test dataset: {round(rmse_value, 2)}')"
   ]
  },
  {
   "cell_type": "code",
   "execution_count": null,
   "id": "96600a67-be1f-4103-a06a-47d031d565b7",
   "metadata": {},
   "outputs": [],
   "source": []
  }
 ],
 "metadata": {
  "kernelspec": {
   "display_name": "Python 3 (ipykernel)",
   "language": "python",
   "name": "python3"
  },
  "language_info": {
   "codemirror_mode": {
    "name": "ipython",
    "version": 3
   },
   "file_extension": ".py",
   "mimetype": "text/x-python",
   "name": "python",
   "nbconvert_exporter": "python",
   "pygments_lexer": "ipython3",
   "version": "3.12.4"
  }
 },
 "nbformat": 4,
 "nbformat_minor": 5
}
